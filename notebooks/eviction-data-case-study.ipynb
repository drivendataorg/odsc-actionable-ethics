{
 "cells": [
  {
   "cell_type": "markdown",
   "metadata": {},
   "source": [
    "# Data Science Ethics Checklist"
   ]
  },
  {
   "cell_type": "markdown",
   "metadata": {},
   "source": [
    "[![Deon badge](https://img.shields.io/badge/ethics%20checklist-deon-brightgreen.svg?style=popout-square)](http://deon.drivendata.org/)"
   ]
  },
  {
   "cell_type": "markdown",
   "metadata": {},
   "source": [
    "This notebook is for the Eviction Data Case Study exercise in the \"Actionable Ethics for Data Scientists\" workshop at ODSC. We will be walking through data and deon ethics checklist in the notebook. We will have a group discussion where there is a <span style=\"color:green\">**\\*\\*bolded green discussion question\\*\\***</span>. Some code relevant to the checklist items are provided, but you are encouraged to think of other things to look at and share with the group."
   ]
  },
  {
   "cell_type": "markdown",
   "metadata": {},
   "source": [
    "## Background"
   ]
  },
  {
   "cell_type": "markdown",
   "metadata": {},
   "source": [
    "Over the past five decades, [housing costs have risen faster than incomes](http://www.jchs.harvard.edu/state-nations-housing-2018), low-cost housing has been disappearing from the market, and racial disparities in homeownership rates have deepened. This has put many in a perilous situation. As the [Eviction Lab](https://evictionlab.org/why-eviction-matters/#affordable-housing-crisis) explains:\n",
    "\n",
    "> Today, most poor renting families spend at least half of their income on housing costs, with one in four of those families spending over 70 percent of their income just on rent and utilities. Only one in four families who qualify for affordable housing programs get any kind of help. Under those conditions, it has become harder for low-income families to keep up with rent and utility costs, and a growing number are living one misstep or emergency away from eviction.\n"
   ]
  },
  {
   "cell_type": "markdown",
   "metadata": {},
   "source": [
    "## Objective"
   ]
  },
  {
   "cell_type": "markdown",
   "metadata": {},
   "source": [
    "A non-profit dedicated to helping people at risk of eviction in California has tasked us to build a model to estimate the number of eviction cases by geography, based on socioeconomic data. They would like to use these estimates to help them prioritize where to commit funding and resources."
   ]
  },
  {
   "cell_type": "markdown",
   "metadata": {},
   "source": [
    "We will be using a subset of the eviction dataset published by the [Eviction Lab](https://evictionlab.org/) at Princeton University. The subset is the census-tract-level aggregates for only tracts in the state of California. "
   ]
  },
  {
   "cell_type": "markdown",
   "metadata": {},
   "source": [
    "## Loading the Data"
   ]
  },
  {
   "cell_type": "code",
   "execution_count": 1,
   "metadata": {},
   "outputs": [],
   "source": [
    "import matplotlib.pyplot as plt\n",
    "import numpy as np\n",
    "import os.path\n",
    "import pandas as pd\n",
    "import seaborn as sns\n",
    "import wget\n",
    "\n",
    "%matplotlib inline\n",
    "pd.set_option(\"display.max_columns\", 30)"
   ]
  },
  {
   "cell_type": "code",
   "execution_count": 2,
   "metadata": {},
   "outputs": [],
   "source": [
    "DATA_URL = \"https://drivendata-public-assets.s3.amazonaws.com/odsc-west-2019/california-tracts.csv\"\n",
    "DATA_PATH = \"../data/raw/california-tracts.csv\"\n",
    "\n",
    "# Set standard fig size for plots\n",
    "FIGSIZE = (10, 10)"
   ]
  },
  {
   "cell_type": "code",
   "execution_count": 3,
   "metadata": {},
   "outputs": [],
   "source": [
    "if not os.path.exists(DATA_PATH):\n",
    "    # Download data\n",
    "    wget.download(url=DATA_URL, out=DATA_PATH)"
   ]
  },
  {
   "cell_type": "code",
   "execution_count": 4,
   "metadata": {
    "scrolled": false
   },
   "outputs": [
    {
     "name": "stdout",
     "output_type": "stream",
     "text": [
      "(136958, 27)\n",
      "GEOID                           int64\n",
      "year                            int64\n",
      "name                          float64\n",
      "parent-location                object\n",
      "population                    float64\n",
      "poverty-rate                  float64\n",
      "renter-occupied-households    float64\n",
      "pct-renter-occupied           float64\n",
      "median-gross-rent             float64\n",
      "median-household-income       float64\n",
      "median-property-value         float64\n",
      "rent-burden                   float64\n",
      "pct-white                     float64\n",
      "pct-af-am                     float64\n",
      "pct-hispanic                  float64\n",
      "pct-am-ind                    float64\n",
      "pct-asian                     float64\n",
      "pct-nh-pi                     float64\n",
      "pct-multiple                  float64\n",
      "pct-other                     float64\n",
      "eviction-filings              float64\n",
      "evictions                     float64\n",
      "eviction-rate                 float64\n",
      "eviction-filing-rate          float64\n",
      "low-flag                        int64\n",
      "imputed                         int64\n",
      "subbed                          int64\n",
      "dtype: object\n"
     ]
    },
    {
     "data": {
      "text/html": [
       "<div>\n",
       "<style scoped>\n",
       "    .dataframe tbody tr th:only-of-type {\n",
       "        vertical-align: middle;\n",
       "    }\n",
       "\n",
       "    .dataframe tbody tr th {\n",
       "        vertical-align: top;\n",
       "    }\n",
       "\n",
       "    .dataframe thead th {\n",
       "        text-align: right;\n",
       "    }\n",
       "</style>\n",
       "<table border=\"1\" class=\"dataframe\">\n",
       "  <thead>\n",
       "    <tr style=\"text-align: right;\">\n",
       "      <th></th>\n",
       "      <th>GEOID</th>\n",
       "      <th>year</th>\n",
       "      <th>name</th>\n",
       "      <th>parent-location</th>\n",
       "      <th>population</th>\n",
       "      <th>poverty-rate</th>\n",
       "      <th>renter-occupied-households</th>\n",
       "      <th>pct-renter-occupied</th>\n",
       "      <th>median-gross-rent</th>\n",
       "      <th>median-household-income</th>\n",
       "      <th>median-property-value</th>\n",
       "      <th>rent-burden</th>\n",
       "      <th>pct-white</th>\n",
       "      <th>pct-af-am</th>\n",
       "      <th>pct-hispanic</th>\n",
       "      <th>pct-am-ind</th>\n",
       "      <th>pct-asian</th>\n",
       "      <th>pct-nh-pi</th>\n",
       "      <th>pct-multiple</th>\n",
       "      <th>pct-other</th>\n",
       "      <th>eviction-filings</th>\n",
       "      <th>evictions</th>\n",
       "      <th>eviction-rate</th>\n",
       "      <th>eviction-filing-rate</th>\n",
       "      <th>low-flag</th>\n",
       "      <th>imputed</th>\n",
       "      <th>subbed</th>\n",
       "    </tr>\n",
       "  </thead>\n",
       "  <tbody>\n",
       "    <tr>\n",
       "      <th>0</th>\n",
       "      <td>6001400100</td>\n",
       "      <td>2000</td>\n",
       "      <td>4001.0</td>\n",
       "      <td>Alameda County, California</td>\n",
       "      <td>2497.87</td>\n",
       "      <td>2.93</td>\n",
       "      <td>108.0</td>\n",
       "      <td>9.43</td>\n",
       "      <td>1913.0</td>\n",
       "      <td>133272.0</td>\n",
       "      <td>695900.0</td>\n",
       "      <td>22.8</td>\n",
       "      <td>77.54</td>\n",
       "      <td>4.56</td>\n",
       "      <td>3.88</td>\n",
       "      <td>0.16</td>\n",
       "      <td>11.21</td>\n",
       "      <td>0.2</td>\n",
       "      <td>2.2</td>\n",
       "      <td>0.24</td>\n",
       "      <td>0.0</td>\n",
       "      <td>0.0</td>\n",
       "      <td>0.00</td>\n",
       "      <td>0.00</td>\n",
       "      <td>1</td>\n",
       "      <td>0</td>\n",
       "      <td>0</td>\n",
       "    </tr>\n",
       "    <tr>\n",
       "      <th>1</th>\n",
       "      <td>6001400100</td>\n",
       "      <td>2001</td>\n",
       "      <td>4001.0</td>\n",
       "      <td>Alameda County, California</td>\n",
       "      <td>2497.87</td>\n",
       "      <td>2.93</td>\n",
       "      <td>117.0</td>\n",
       "      <td>9.43</td>\n",
       "      <td>1913.0</td>\n",
       "      <td>133272.0</td>\n",
       "      <td>695900.0</td>\n",
       "      <td>22.8</td>\n",
       "      <td>77.54</td>\n",
       "      <td>4.56</td>\n",
       "      <td>3.88</td>\n",
       "      <td>0.16</td>\n",
       "      <td>11.21</td>\n",
       "      <td>0.2</td>\n",
       "      <td>2.2</td>\n",
       "      <td>0.24</td>\n",
       "      <td>1.0</td>\n",
       "      <td>0.0</td>\n",
       "      <td>0.00</td>\n",
       "      <td>0.86</td>\n",
       "      <td>1</td>\n",
       "      <td>0</td>\n",
       "      <td>0</td>\n",
       "    </tr>\n",
       "    <tr>\n",
       "      <th>2</th>\n",
       "      <td>6001400100</td>\n",
       "      <td>2002</td>\n",
       "      <td>4001.0</td>\n",
       "      <td>Alameda County, California</td>\n",
       "      <td>2497.87</td>\n",
       "      <td>2.93</td>\n",
       "      <td>126.0</td>\n",
       "      <td>9.43</td>\n",
       "      <td>1913.0</td>\n",
       "      <td>133272.0</td>\n",
       "      <td>695900.0</td>\n",
       "      <td>22.8</td>\n",
       "      <td>77.54</td>\n",
       "      <td>4.56</td>\n",
       "      <td>3.88</td>\n",
       "      <td>0.16</td>\n",
       "      <td>11.21</td>\n",
       "      <td>0.2</td>\n",
       "      <td>2.2</td>\n",
       "      <td>0.24</td>\n",
       "      <td>1.0</td>\n",
       "      <td>1.0</td>\n",
       "      <td>0.80</td>\n",
       "      <td>0.80</td>\n",
       "      <td>1</td>\n",
       "      <td>0</td>\n",
       "      <td>0</td>\n",
       "    </tr>\n",
       "    <tr>\n",
       "      <th>3</th>\n",
       "      <td>6001400100</td>\n",
       "      <td>2003</td>\n",
       "      <td>4001.0</td>\n",
       "      <td>Alameda County, California</td>\n",
       "      <td>2497.87</td>\n",
       "      <td>2.93</td>\n",
       "      <td>134.0</td>\n",
       "      <td>9.43</td>\n",
       "      <td>1913.0</td>\n",
       "      <td>133272.0</td>\n",
       "      <td>695900.0</td>\n",
       "      <td>22.8</td>\n",
       "      <td>77.54</td>\n",
       "      <td>4.56</td>\n",
       "      <td>3.88</td>\n",
       "      <td>0.16</td>\n",
       "      <td>11.21</td>\n",
       "      <td>0.2</td>\n",
       "      <td>2.2</td>\n",
       "      <td>0.24</td>\n",
       "      <td>2.0</td>\n",
       "      <td>2.0</td>\n",
       "      <td>1.49</td>\n",
       "      <td>1.49</td>\n",
       "      <td>1</td>\n",
       "      <td>0</td>\n",
       "      <td>0</td>\n",
       "    </tr>\n",
       "    <tr>\n",
       "      <th>4</th>\n",
       "      <td>6001400100</td>\n",
       "      <td>2004</td>\n",
       "      <td>4001.0</td>\n",
       "      <td>Alameda County, California</td>\n",
       "      <td>2497.87</td>\n",
       "      <td>2.93</td>\n",
       "      <td>143.0</td>\n",
       "      <td>9.43</td>\n",
       "      <td>1913.0</td>\n",
       "      <td>133272.0</td>\n",
       "      <td>695900.0</td>\n",
       "      <td>22.8</td>\n",
       "      <td>77.54</td>\n",
       "      <td>4.56</td>\n",
       "      <td>3.88</td>\n",
       "      <td>0.16</td>\n",
       "      <td>11.21</td>\n",
       "      <td>0.2</td>\n",
       "      <td>2.2</td>\n",
       "      <td>0.24</td>\n",
       "      <td>0.0</td>\n",
       "      <td>0.0</td>\n",
       "      <td>0.00</td>\n",
       "      <td>0.00</td>\n",
       "      <td>1</td>\n",
       "      <td>0</td>\n",
       "      <td>0</td>\n",
       "    </tr>\n",
       "  </tbody>\n",
       "</table>\n",
       "</div>"
      ],
      "text/plain": [
       "        GEOID  year    name             parent-location  population  \\\n",
       "0  6001400100  2000  4001.0  Alameda County, California     2497.87   \n",
       "1  6001400100  2001  4001.0  Alameda County, California     2497.87   \n",
       "2  6001400100  2002  4001.0  Alameda County, California     2497.87   \n",
       "3  6001400100  2003  4001.0  Alameda County, California     2497.87   \n",
       "4  6001400100  2004  4001.0  Alameda County, California     2497.87   \n",
       "\n",
       "   poverty-rate  renter-occupied-households  pct-renter-occupied  \\\n",
       "0          2.93                       108.0                 9.43   \n",
       "1          2.93                       117.0                 9.43   \n",
       "2          2.93                       126.0                 9.43   \n",
       "3          2.93                       134.0                 9.43   \n",
       "4          2.93                       143.0                 9.43   \n",
       "\n",
       "   median-gross-rent  median-household-income  median-property-value  \\\n",
       "0             1913.0                 133272.0               695900.0   \n",
       "1             1913.0                 133272.0               695900.0   \n",
       "2             1913.0                 133272.0               695900.0   \n",
       "3             1913.0                 133272.0               695900.0   \n",
       "4             1913.0                 133272.0               695900.0   \n",
       "\n",
       "   rent-burden  pct-white  pct-af-am  pct-hispanic  pct-am-ind  pct-asian  \\\n",
       "0         22.8      77.54       4.56          3.88        0.16      11.21   \n",
       "1         22.8      77.54       4.56          3.88        0.16      11.21   \n",
       "2         22.8      77.54       4.56          3.88        0.16      11.21   \n",
       "3         22.8      77.54       4.56          3.88        0.16      11.21   \n",
       "4         22.8      77.54       4.56          3.88        0.16      11.21   \n",
       "\n",
       "   pct-nh-pi  pct-multiple  pct-other  eviction-filings  evictions  \\\n",
       "0        0.2           2.2       0.24               0.0        0.0   \n",
       "1        0.2           2.2       0.24               1.0        0.0   \n",
       "2        0.2           2.2       0.24               1.0        1.0   \n",
       "3        0.2           2.2       0.24               2.0        2.0   \n",
       "4        0.2           2.2       0.24               0.0        0.0   \n",
       "\n",
       "   eviction-rate  eviction-filing-rate  low-flag  imputed  subbed  \n",
       "0           0.00                  0.00         1        0       0  \n",
       "1           0.00                  0.86         1        0       0  \n",
       "2           0.80                  0.80         1        0       0  \n",
       "3           1.49                  1.49         1        0       0  \n",
       "4           0.00                  0.00         1        0       0  "
      ]
     },
     "execution_count": 4,
     "metadata": {},
     "output_type": "execute_result"
    }
   ],
   "source": [
    "df = pd.read_csv(DATA_PATH)\n",
    "print(df.shape)\n",
    "print(df.dtypes)\n",
    "df.head()"
   ]
  },
  {
   "cell_type": "code",
   "execution_count": 5,
   "metadata": {},
   "outputs": [
    {
     "data": {
      "text/html": [
       "<div>\n",
       "<style scoped>\n",
       "    .dataframe tbody tr th:only-of-type {\n",
       "        vertical-align: middle;\n",
       "    }\n",
       "\n",
       "    .dataframe tbody tr th {\n",
       "        vertical-align: top;\n",
       "    }\n",
       "\n",
       "    .dataframe thead th {\n",
       "        text-align: right;\n",
       "    }\n",
       "</style>\n",
       "<table border=\"1\" class=\"dataframe\">\n",
       "  <thead>\n",
       "    <tr style=\"text-align: right;\">\n",
       "      <th>year</th>\n",
       "      <th>2000</th>\n",
       "      <th>2001</th>\n",
       "      <th>2002</th>\n",
       "      <th>2003</th>\n",
       "      <th>2004</th>\n",
       "      <th>2005</th>\n",
       "      <th>2006</th>\n",
       "      <th>2007</th>\n",
       "      <th>2008</th>\n",
       "      <th>2009</th>\n",
       "      <th>2010</th>\n",
       "      <th>2011</th>\n",
       "      <th>2012</th>\n",
       "      <th>2013</th>\n",
       "      <th>2014</th>\n",
       "      <th>2015</th>\n",
       "      <th>2016</th>\n",
       "    </tr>\n",
       "  </thead>\n",
       "  <tbody>\n",
       "    <tr>\n",
       "      <th>count</th>\n",
       "      <td>6622</td>\n",
       "      <td>6943</td>\n",
       "      <td>6871</td>\n",
       "      <td>6697</td>\n",
       "      <td>6584</td>\n",
       "      <td>6553</td>\n",
       "      <td>7018</td>\n",
       "      <td>7190</td>\n",
       "      <td>7190</td>\n",
       "      <td>7364</td>\n",
       "      <td>7254</td>\n",
       "      <td>6369</td>\n",
       "      <td>6335</td>\n",
       "      <td>6327</td>\n",
       "      <td>6739</td>\n",
       "      <td>6551</td>\n",
       "      <td>6615</td>\n",
       "    </tr>\n",
       "    <tr>\n",
       "      <th>size</th>\n",
       "      <td>8056</td>\n",
       "      <td>8056</td>\n",
       "      <td>8056</td>\n",
       "      <td>8056</td>\n",
       "      <td>8056</td>\n",
       "      <td>8056</td>\n",
       "      <td>8056</td>\n",
       "      <td>8056</td>\n",
       "      <td>8056</td>\n",
       "      <td>8056</td>\n",
       "      <td>8056</td>\n",
       "      <td>8057</td>\n",
       "      <td>8057</td>\n",
       "      <td>8057</td>\n",
       "      <td>8057</td>\n",
       "      <td>8057</td>\n",
       "      <td>8057</td>\n",
       "    </tr>\n",
       "  </tbody>\n",
       "</table>\n",
       "</div>"
      ],
      "text/plain": [
       "year   2000  2001  2002  2003  2004  2005  2006  2007  2008  2009  2010  2011  \\\n",
       "count  6622  6943  6871  6697  6584  6553  7018  7190  7190  7364  7254  6369   \n",
       "size   8056  8056  8056  8056  8056  8056  8056  8056  8056  8056  8056  8057   \n",
       "\n",
       "year   2012  2013  2014  2015  2016  \n",
       "count  6335  6327  6739  6551  6615  \n",
       "size   8057  8057  8057  8057  8057  "
      ]
     },
     "execution_count": 5,
     "metadata": {},
     "output_type": "execute_result"
    }
   ],
   "source": [
    "# count = non-NaN observations; size = all observations\n",
    "df.groupby('year').agg(count = ('eviction-rate', 'count'), size = ('eviction-rate', 'size')).transpose()"
   ]
  },
  {
   "cell_type": "code",
   "execution_count": 6,
   "metadata": {},
   "outputs": [],
   "source": [
    "# Data Dictionary\n",
    "DATA_DICT_URL = \"https://drivendata-public-assets.s3.amazonaws.com/odsc-west-2019/DATA_DICTIONARY.txt\"\n",
    "DATA_DICT_PATH = \"../references/DATA_DICTIONARY.txt\"\n",
    "\n",
    "if not os.path.exists(DATA_DICT_PATH):\n",
    "    # Download data dictionary\n",
    "    wget.download(url=DATA_DICT_URL, out=DATA_DICT_PATH)"
   ]
  },
  {
   "cell_type": "code",
   "execution_count": 7,
   "metadata": {
    "scrolled": false
   },
   "outputs": [
    {
     "name": "stdout",
     "output_type": "stream",
     "text": [
      "Eviction Lab Data Dictionary\r\n",
      "\r\n",
      "Additional information in our FAQ evictionlab.org/help-faq/\r\n",
      "Full methodology evictionlab.org/methods/\r\n",
      "\r\n",
      "Notes:\r\n",
      "- All geographies are converted to their 2010 Census FIPS codes, names, and boundaries\r\n",
      "\r\n",
      "Variables:\r\n",
      "\r\n",
      "- GEOID\r\n",
      "    - Census FIPS code\r\n",
      "- name\r\n",
      "    - Census location name (modified for display on map)\r\n",
      "- parent-location\r\n",
      "    - Parent location of given geography.\r\n",
      "    - USA for states, state for counties and cities, counties for tracts and block groups\r\n",
      "- population\r\n",
      "    - Total population\r\n",
      "    - 2000-2004 use 2000 Census SF1 P001001\r\n",
      "    - 2005-2009 use 2009 5-year ACS B01003_001E\r\n",
      "    - 2010 uses 2010 Census P0030001\r\n",
      "    - 2011-2016 uses 2015 5-year ACS B01003_001E\r\n",
      "- poverty-rate\r\n",
      "    - % of the population with income in the past 12 months below the poverty level\r\n",
      "    - 2000-2004 divides P087002 by P087001 in the 2000 Census summary file 3\r\n",
      "    - 2005-2009 divides B17010_002E by B17010_001E in 2009 5-year ACS\r\n",
      "    - 2010 divides B17010_002E by B17010_001E in 2012 5-year ACS\r\n",
      "    - 2011-2016 divides B17010_002E by B17010_001E in 2015 5-year ACS\r\n",
      "- pct-renter-occupied\r\n",
      "    - NOTE: This is not based off of the interpolated renter-occupied-households variable\r\n",
      "    - % of occupied housing units that are renter-occupied\r\n",
      "    - 2000-2004 divides H004003 by H003002 in 2000 Census summary file 1\r\n",
      "    - 2005-2009 divides B25003_003E by B25003_001E in 2009 5-year ACS\r\n",
      "    - 2010 divides H0040004 by H0040001 in 2010 Census\r\n",
      "    - 2011-2016 divides B25003_003E by B25003_001E in 2015 5-year ACS\r\n",
      "- median-gross-rent\r\n",
      "    - Median gross rent\r\n",
      "    - 2000-20004 uses 2000 Census summary file 3 H063001\r\n",
      "    - 2005-2009 uses 2009 5-year ACS B25064_001E\r\n",
      "    - 2010 uses 2012 5-year ACS B25064_001E\r\n",
      "    - 2011-2016 uses 2015 5-year ACS B25064_001E\r\n",
      "- median-household-income\r\n",
      "    - Median household income\r\n",
      "    - 2000-2004 uses 2000 Census summary file 3 P053001\r\n",
      "    - 2005-2009 uses 2009 5-year ACS B19013_001E\r\n",
      "    - 2010 uses 2012 5-year ACS B19013_001E\r\n",
      "    - 2011-2016 uses 2015 5-year ACS B19013_001E\r\n",
      "- median-property-value\r\n",
      "    - Median property value\r\n",
      "    - 2000-2004 uses 2000 Census summary file 3 H076001\r\n",
      "    - 2005-2009 uses 2009 5-year ACS B25077_001E\r\n",
      "    - 2010 uses 2012 5-year ACS B25077_001E\r\n",
      "    - 2011-2016 uses 2015 5-year ACS B25077_001E\r\n",
      "- rent-burden\r\n",
      "    - Median gross rent as a percentage of household income, max is 50% representing >= 50%\r\n",
      "    - 2000-2004 uses 2000 Census summary file 3 H070001\r\n",
      "    - 2005-2009 uses 2009 5-year ACS B25071_001E\r\n",
      "    - 2010 uses 2012 5-year ACS B25071_001E\r\n",
      "    - 2011-2016 uses 2015 5-year ACS B25071_001E\r\n",
      "- pct-white\r\n",
      "    - % population that is White alone and not Hispanic or Latino\r\n",
      "    - 2000-2004 divides P008003 by P001001 in 2000 Census summary file 1\r\n",
      "    - 2005-2009 divides B03002_003E by B01003_001E in 2009 5-year ACS\r\n",
      "    - 2010 divides P0050003 by P0030001 in 2010 Census\r\n",
      "    - 2011-2016 divides B03002_003E by B01003_001E in 2015 5-year ACS\r\n",
      "- pct-af-am\r\n",
      "    - % population that is Black or African American alone and not Hispanic or Latino\r\n",
      "    - 2000-2004 divides P008004 by P001001 in 2000 Census summary file 1\r\n",
      "    - 2005-2009 divides B03002_004E by B01003_001E in 2009 5-year ACS\r\n",
      "    - 2010 divides P0050004 by P0030001 in 2010 Census\r\n",
      "    - 2011-2016 divides B03002_004E by B01003_001E in 2015 5-year ACS\r\n",
      "- pct-hispanic\r\n",
      "    - % population that is of Hispanic or Latino origin\r\n",
      "    - 2000-2004 divides P008010 by P001001 in 2000 Census summary file 1\r\n",
      "    - 2005-2009 divides B03002_012E by B01003_001E in 2009 5-year ACS\r\n",
      "    - 2010 divides P0040003 by P0030001 in 2010 Census\r\n",
      "    - 2011-2016 divides B03002_012E by B01003_001E in 2015 5-year ACS\r\n",
      "- pct-am-ind\r\n",
      "    - % population that is American Indian and Alaska Native alone and not Hispanic or Latino\r\n",
      "    - 2000-2004 divides P008005 by P001001 in 2000 Census summary file 1\r\n",
      "    - 2005-2009 divides B03002_005E by B01003_001E in 2009 5-year ACS\r\n",
      "    - 2010 divides P0050005 by P0030001 in 2010 Census\r\n",
      "    - 2011-2016 divides B03002_005E by B01003_001E in 2015 5-year ACS\r\n",
      "- pct-asian\r\n",
      "    - % population that is Asian alone and not Hispanic or Latino\r\n",
      "    - 2000-2004 divides P008006 by P001001 in 2000 Census summary file 1\r\n",
      "    - 2005-2009 divides B03002_006E by B01003_001E in 2009 5-year ACS\r\n",
      "    - 2010 divides P0050006 by P0030001 in 2010 Census\r\n",
      "    - 2011-2016 divides B03002_006E by B01003_001E in 2015 5-year ACS\r\n",
      "- pct-nh-pi\r\n",
      "    - % population that is Native Hawaiian and Other Pacific Islander alone and not Hispanic or Latino\r\n",
      "    - 2000-2004 divides P008007 by P001001 in 2000 Census summary file 1\r\n",
      "    - 2005-2009 divides B03002_007E by B01003_001E in 2009 5-year ACS\r\n",
      "    - 2010 divides P0050007 by P0030001 in 2010 Census\r\n",
      "    - 2011-2016 divides B03002_007E by B01003_001E in 2015 5-year ACS\r\n",
      "- pct-other\r\n",
      "    - % population that is other race alone and not Hispanic or Latino\r\n",
      "    - 2000-2004 divides P008008 by P001001 in 2000 Census summary file 1\r\n",
      "    - 2005-2009 divides B03002_008E by B01003_001E in 2009 5-year ACS\r\n",
      "    - 2010 divides P0050008 by P0030001 in 2010 Census\r\n",
      "    - 2011-2016 divides B03002_008E by B01003_001E in 2015 5-year ACS\r\n",
      "- pct-multiple\r\n",
      "    - % population that is two or more races and not Hispanic or Latino\r\n",
      "    - 2000-2004 divides P008009 by P001001 in 2000 Census summary file 1\r\n",
      "    - 2005-2009 divides B03002_009E by B01003_001E in 2009 5-year ACS\r\n",
      "    - 2010 divides P0050009 by P0030001 in 2010 Census\r\n",
      "    - 2011-2016 divides B03002_009E by B01003_001E in 2015 5-year ACS\r\n",
      "- renter-occupied-households\r\n",
      "    - Interpolated count of renter-occupied households\r\n",
      "    - Based on Census and ESRI Business Analyst demographic estimates\r\n",
      "- evictions\r\n",
      "    - Number of eviction judgments in which renters were ordered to leave in a given area and year\r\n",
      "    - Only counts a single address which received an eviction judgment per year\r\n",
      "- eviction-filings\r\n",
      "    - All eviction cases filed in an area, including multiple cases filed against the same address in the same year\r\n",
      "- eviction-rate\r\n",
      "    - Ratio of the number of renter-occupied households in an area that received an eviction judgement in which renters were ordered to leave\r\n",
      "    - Only counts a single address per year which received an eviction judgment\r\n",
      "- eviction-filing-rate\r\n",
      "    - Ratio of the number of evictions filed in an area over the number of renter-occupied homes in that area\r\n",
      "    - Counts all eviction cases filed in an area, including multiple cases filed against the same address in the same year\r\n",
      "- imputed\r\n",
      "    - Boolean variable indicating whether eviction numbers and renter-occupied-households were imputed\r\n",
      "    - 0: false, 1: true\r\n",
      "- subbed\r\n",
      "    - Boolean variable indicating whether eviction numbers and renter-occupied-households were pulled from another source other than Eviction Lab sources\r\n",
      "    - 0: false, 1: true\r\n",
      "- low-flag\r\n",
      "    - Boolean variable indicating whether the eviction numbers are estimated to be lower than they are in reality. Based on county estimates for tracts and block groups\r\n",
      "    - 0: false, 1: true\r\n"
     ]
    }
   ],
   "source": [
    "!cat $DATA_DICT_PATH"
   ]
  },
  {
   "cell_type": "markdown",
   "metadata": {},
   "source": [
    "## A. Data Collection"
   ]
  },
  {
   "cell_type": "markdown",
   "metadata": {},
   "source": [
    "- [ ] **A.1 Informed consent**: If there are human subjects, have they given informed consent, where subjects affirmatively opt-in and have a clear understanding of the data uses to which they consent?"
   ]
  },
  {
   "cell_type": "markdown",
   "metadata": {},
   "source": [
    "We are not directly collecting any data from human subjects. We are using a well-known, publicly published dataset published by a well-known research laboratory at a prestigious research university. The university has strong data protection guidelines documented [here](https://ria.princeton.edu/research-data-security). Furthermore, the data represents public records such as court records and census data. "
   ]
  },
  {
   "cell_type": "markdown",
   "metadata": {},
   "source": [
    " - [ ] **A.2 Collection bias**: Have we considered sources of bias that could be introduced during data collection and survey design and taken steps to mitigate those?"
   ]
  },
  {
   "cell_type": "markdown",
   "metadata": {},
   "source": [
    "Data sources are reported by Eviction Lab [here](https://evictionlab.org/help-faq/#data-source). In their [methodology details](https://evictionlab.org/docs/Eviction%20Lab%20Methodology%20Report.pdf), they note that some observations are marked as \"low\", meaning that Eviction Lab believes they are undercounted based on comparisons against county-level aggregate data reported by states. \n",
    "\n",
    "There has also been some further criticism from housing activists that Eviction Lab is undercounting evictions when compared against data from local activist organizations, especially informal evictions that don't go through the formal legal process. See:\n",
    "\n",
    "1. https://shelterforce.org/2018/08/22/eviction-lab-misses-the-mark/\n",
    "2. https://chieforganizer.org/2018/08/28/the-cracks-in-the-eviction-lab-wall-are-undercounting-the-crisis/"
   ]
  },
  {
   "cell_type": "markdown",
   "metadata": {},
   "source": [
    " - [ ] **A.3 Limit PII exposure**: Have we considered ways to minimize exposure of personally identifiable information (PII) for example through anonymization or not collecting information that isn't relevant for analysis?"
   ]
  },
  {
   "cell_type": "markdown",
   "metadata": {},
   "source": [
    "The dataset we are using is aggregated at the census tract level and does not directly have PII in it. The Eviction Lab has individual household data but does not make those available publicly. Again, the university has strong data protection guidelines documented [here](https://ria.princeton.edu/research-data-security).\n",
    "\n",
    "More generally, one potential pitfall is that in situations where groups are very small, there is potential to infer or associate information to individuals. We can actually see in the data that some tracts have very small counts of renter households. However, we don't have any PII-relevant fields in this dataset, and identification in this case would involve joining to other datasets that could independently be used to identify people. "
   ]
  },
  {
   "cell_type": "code",
   "execution_count": 8,
   "metadata": {},
   "outputs": [
    {
     "data": {
      "text/plain": [
       "count    136952.000000\n",
       "mean        674.824800\n",
       "std         492.442191\n",
       "min           0.000000\n",
       "0.1%          0.000000\n",
       "1%            6.000000\n",
       "5%          102.000000\n",
       "10%         160.000000\n",
       "50%         574.000000\n",
       "max        6156.000000\n",
       "Name: renter-occupied-households, dtype: float64"
      ]
     },
     "execution_count": 8,
     "metadata": {},
     "output_type": "execute_result"
    }
   ],
   "source": [
    "df['renter-occupied-households'].describe(percentiles=[0.001, 0.01, 0.05, 0.10])"
   ]
  },
  {
   "cell_type": "markdown",
   "metadata": {},
   "source": [
    "## B. Data Storage"
   ]
  },
  {
   "cell_type": "markdown",
   "metadata": {},
   "source": [
    " - [ ] **B.1 Data security**: Do we have a plan to protect and secure data (e.g., encryption at rest and in transit, access controls on internal users and third parties, access logs, and up-to-date software)?"
   ]
  },
  {
   "cell_type": "markdown",
   "metadata": {},
   "source": [
    "Since we are using a public dataset, this is not applicable."
   ]
  },
  {
   "cell_type": "markdown",
   "metadata": {},
   "source": [
    " - [ ] **B.2 Right to be forgotten**: Do we have a mechanism through which an individual can request their personal information be removed?"
   ]
  },
  {
   "cell_type": "markdown",
   "metadata": {},
   "source": [
    "Since we are using a public dataset and not collecting data from subjects directly, this is not applicable."
   ]
  },
  {
   "cell_type": "markdown",
   "metadata": {},
   "source": [
    " - [ ] **B.3 Data retention plan**: Is there a schedule or plan to delete the data after it is no longer needed?"
   ]
  },
  {
   "cell_type": "markdown",
   "metadata": {},
   "source": [
    "Since we are using a public dataset, this is not applicable."
   ]
  },
  {
   "cell_type": "markdown",
   "metadata": {},
   "source": [
    "## C. Analysis"
   ]
  },
  {
   "cell_type": "markdown",
   "metadata": {},
   "source": [
    " - [ ] **C.1 Missing perspectives**: Have we sought to address blindspots in the analysis through engagement with relevant stakeholders (e.g., checking assumptions and discussing implications with affected communities and subject matter experts)?"
   ]
  },
  {
   "cell_type": "markdown",
   "metadata": {},
   "source": [
    "As noted in A.2, there may be systemic undercounting of evictions due to the data collection process. In particular, for informal evictions that bypassed the formal legal process, there may be certain groups of people that an analysis based on this dataset is completely blind to. "
   ]
  },
  {
   "cell_type": "markdown",
   "metadata": {},
   "source": [
    " - [ ] **C.2 Dataset bias**: Have we examined the data for possible sources of bias and taken steps to mitigate or address these biases (e.g., stereotype perpetuation, confirmation bias, imbalanced classes, or omitted confounding variables)?"
   ]
  },
  {
   "cell_type": "markdown",
   "metadata": {},
   "source": [
    "<span style=\"color:green\">**\\*\\*Discussion: What are possible sources of bias? Take some time to explore the data.\\*\\***</span> "
   ]
  },
  {
   "cell_type": "code",
   "execution_count": 9,
   "metadata": {},
   "outputs": [
    {
     "name": "stdout",
     "output_type": "stream",
     "text": [
      "Proportion of observations with low-flag: 0.72\n",
      "Count of observations with low-flag\n"
     ]
    },
    {
     "data": {
      "text/plain": [
       "1    98441\n",
       "0    38517\n",
       "Name: low-flag, dtype: int64"
      ]
     },
     "execution_count": 9,
     "metadata": {},
     "output_type": "execute_result"
    }
   ],
   "source": [
    "print(f\"Proportion of observations with low-flag: {df['low-flag'].mean():.2f}\")\n",
    "print('Count of observations with low-flag')\n",
    "df['low-flag'].value_counts()"
   ]
  },
  {
   "cell_type": "code",
   "execution_count": 10,
   "metadata": {},
   "outputs": [
    {
     "name": "stdout",
     "output_type": "stream",
     "text": [
      "Proportion of observations with imputed flag: 0.01\n",
      "Count of observations with imputed flag\n"
     ]
    },
    {
     "data": {
      "text/plain": [
       "0    135192\n",
       "1      1766\n",
       "Name: imputed, dtype: int64"
      ]
     },
     "execution_count": 10,
     "metadata": {},
     "output_type": "execute_result"
    }
   ],
   "source": [
    "print(f\"Proportion of observations with imputed flag: {df['imputed'].mean():.2f}\")\n",
    "print('Count of observations with imputed flag')\n",
    "df['imputed'].value_counts()"
   ]
  },
  {
   "cell_type": "code",
   "execution_count": 11,
   "metadata": {},
   "outputs": [
    {
     "name": "stdout",
     "output_type": "stream",
     "text": [
      "Proportion of Evictions Counts that are NA: 0.16\n"
     ]
    },
    {
     "data": {
      "text/plain": [
       "False    115222\n",
       "True      21736\n",
       "Name: evictions_is_na, dtype: int64"
      ]
     },
     "execution_count": 11,
     "metadata": {},
     "output_type": "execute_result"
    }
   ],
   "source": [
    "df['evictions_is_na'] = df['evictions'].isna()\n",
    "print(f\"Proportion of Evictions Counts that are NA: {df['evictions_is_na'].mean():.2f}\")\n",
    "df['evictions_is_na'].value_counts()"
   ]
  },
  {
   "cell_type": "code",
   "execution_count": 12,
   "metadata": {},
   "outputs": [],
   "source": [
    "# Helper function to expand y axis for plots\n",
    "def expand_ylim():\n",
    "    # Seaborn cuts off top and bottom with matplotlib 3.1.1, so we need to add padding.\n",
    "    b, t = plt.ylim() # get values for bottom and top\n",
    "    b += 0.5 # Add 0.5 to the bottom\n",
    "    t -= 0.5 # Subtract 0.5 from the top\n",
    "    plt.ylim(b, t) # reset ylim values"
   ]
  },
  {
   "cell_type": "code",
   "execution_count": 13,
   "metadata": {},
   "outputs": [
    {
     "data": {
      "image/png": "[encoded data removed]",
      "text/plain": [
       "<Figure size 720x720 with 2 Axes>"
      ]
     },
     "metadata": {
      "needs_background": "light"
     },
     "output_type": "display_data"
    }
   ],
   "source": [
    "# Correlation heatmap\n",
    "corr = df.loc[:, [col for col in df.columns if col not in ('GEOID', 'name')]].corr()\n",
    "plt.figure(figsize=FIGSIZE)\n",
    "sns.heatmap(corr, \n",
    "            vmin=-1.0,\n",
    "            vmax=1.0,\n",
    "            cmap='RdBu_r');\n",
    "\n",
    "expand_ylim()\n",
    "plt.show()"
   ]
  },
  {
   "cell_type": "code",
   "execution_count": 14,
   "metadata": {},
   "outputs": [
    {
     "data": {
      "text/html": [
       "<div>\n",
       "<style scoped>\n",
       "    .dataframe tbody tr th:only-of-type {\n",
       "        vertical-align: middle;\n",
       "    }\n",
       "\n",
       "    .dataframe tbody tr th {\n",
       "        vertical-align: top;\n",
       "    }\n",
       "\n",
       "    .dataframe thead th {\n",
       "        text-align: right;\n",
       "    }\n",
       "</style>\n",
       "<table border=\"1\" class=\"dataframe\">\n",
       "  <thead>\n",
       "    <tr style=\"text-align: right;\">\n",
       "      <th></th>\n",
       "      <th>pct-white</th>\n",
       "      <th>pct-af-am</th>\n",
       "      <th>pct-hispanic</th>\n",
       "      <th>pct-am-ind</th>\n",
       "      <th>pct-asian</th>\n",
       "      <th>pct-nh-pi</th>\n",
       "      <th>pct-multiple</th>\n",
       "      <th>pct-other</th>\n",
       "    </tr>\n",
       "  </thead>\n",
       "  <tbody>\n",
       "    <tr>\n",
       "      <th>count</th>\n",
       "      <td>136952.000000</td>\n",
       "      <td>136952.000000</td>\n",
       "      <td>136952.000000</td>\n",
       "      <td>136952.000000</td>\n",
       "      <td>136952.000000</td>\n",
       "      <td>136952.000000</td>\n",
       "      <td>136952.000000</td>\n",
       "      <td>136952.000000</td>\n",
       "    </tr>\n",
       "    <tr>\n",
       "      <th>mean</th>\n",
       "      <td>43.452164</td>\n",
       "      <td>5.994545</td>\n",
       "      <td>34.575192</td>\n",
       "      <td>0.472269</td>\n",
       "      <td>11.850210</td>\n",
       "      <td>0.325644</td>\n",
       "      <td>2.529993</td>\n",
       "      <td>0.253803</td>\n",
       "    </tr>\n",
       "    <tr>\n",
       "      <th>std</th>\n",
       "      <td>27.628941</td>\n",
       "      <td>9.969225</td>\n",
       "      <td>26.246277</td>\n",
       "      <td>1.463626</td>\n",
       "      <td>14.165121</td>\n",
       "      <td>0.864646</td>\n",
       "      <td>1.997365</td>\n",
       "      <td>0.544381</td>\n",
       "    </tr>\n",
       "    <tr>\n",
       "      <th>min</th>\n",
       "      <td>0.000000</td>\n",
       "      <td>0.000000</td>\n",
       "      <td>0.000000</td>\n",
       "      <td>0.000000</td>\n",
       "      <td>0.000000</td>\n",
       "      <td>0.000000</td>\n",
       "      <td>0.000000</td>\n",
       "      <td>0.000000</td>\n",
       "    </tr>\n",
       "    <tr>\n",
       "      <th>50%</th>\n",
       "      <td>44.190000</td>\n",
       "      <td>2.470000</td>\n",
       "      <td>26.495000</td>\n",
       "      <td>0.200000</td>\n",
       "      <td>6.770000</td>\n",
       "      <td>0.030000</td>\n",
       "      <td>2.280000</td>\n",
       "      <td>0.090000</td>\n",
       "    </tr>\n",
       "    <tr>\n",
       "      <th>max</th>\n",
       "      <td>100.000000</td>\n",
       "      <td>92.340000</td>\n",
       "      <td>100.000000</td>\n",
       "      <td>82.190000</td>\n",
       "      <td>94.180000</td>\n",
       "      <td>24.740000</td>\n",
       "      <td>100.000000</td>\n",
       "      <td>14.150000</td>\n",
       "    </tr>\n",
       "  </tbody>\n",
       "</table>\n",
       "</div>"
      ],
      "text/plain": [
       "           pct-white      pct-af-am   pct-hispanic     pct-am-ind  \\\n",
       "count  136952.000000  136952.000000  136952.000000  136952.000000   \n",
       "mean       43.452164       5.994545      34.575192       0.472269   \n",
       "std        27.628941       9.969225      26.246277       1.463626   \n",
       "min         0.000000       0.000000       0.000000       0.000000   \n",
       "50%        44.190000       2.470000      26.495000       0.200000   \n",
       "max       100.000000      92.340000     100.000000      82.190000   \n",
       "\n",
       "           pct-asian      pct-nh-pi   pct-multiple      pct-other  \n",
       "count  136952.000000  136952.000000  136952.000000  136952.000000  \n",
       "mean       11.850210       0.325644       2.529993       0.253803  \n",
       "std        14.165121       0.864646       1.997365       0.544381  \n",
       "min         0.000000       0.000000       0.000000       0.000000  \n",
       "50%         6.770000       0.030000       2.280000       0.090000  \n",
       "max        94.180000      24.740000     100.000000      14.150000  "
      ]
     },
     "execution_count": 14,
     "metadata": {},
     "output_type": "execute_result"
    }
   ],
   "source": [
    "race_cols = ['pct-white', 'pct-af-am', 'pct-hispanic', 'pct-am-ind', \n",
    "        'pct-asian', 'pct-nh-pi', 'pct-multiple', 'pct-other']\n",
    "df[race_cols].describe(percentiles=[])"
   ]
  },
  {
   "cell_type": "code",
   "execution_count": 15,
   "metadata": {},
   "outputs": [
    {
     "data": {
      "text/plain": [
       "pct-white      -0.108437\n",
       "pct-af-am       0.070013\n",
       "pct-hispanic    0.045566\n",
       "pct-am-ind     -0.052412\n",
       "pct-asian       0.079841\n",
       "pct-nh-pi       0.025293\n",
       "pct-multiple   -0.005826\n",
       "pct-other       0.026254\n",
       "Name: low-flag, dtype: float64"
      ]
     },
     "execution_count": 15,
     "metadata": {},
     "output_type": "execute_result"
    }
   ],
   "source": [
    "# Calculate pairwise correlation of some column against race percentage columns\n",
    "col_to_correlate = 'low-flag'\n",
    "race_cols = ['pct-white', 'pct-af-am', 'pct-hispanic', 'pct-am-ind', \n",
    "        'pct-asian', 'pct-nh-pi', 'pct-multiple', 'pct-other']\n",
    "df[race_cols + [col_to_correlate]].corr()[col_to_correlate][:-1]"
   ]
  },
  {
   "cell_type": "code",
   "execution_count": 16,
   "metadata": {},
   "outputs": [
    {
     "data": {
      "image/png": "[encoded data removed]",
      "text/plain": [
       "<Figure size 720x720 with 2 Axes>"
      ]
     },
     "metadata": {
      "needs_background": "light"
     },
     "output_type": "display_data"
    }
   ],
   "source": [
    "# Visualize the above correlations.\n",
    "cols_to_correlate = ['evictions', 'median-household-income']\n",
    "heatmap_df = pd.DataFrame(df[race_cols + cols_to_correlate].corr()[cols_to_correlate][:-2])\n",
    "\n",
    "plt.figure(figsize=FIGSIZE)\n",
    "sns.heatmap(heatmap_df.sort_values('evictions'), annot=True, fmt=\"g\", cmap='RdBu_r', vmin=-.5, vmax=.5)\n",
    "\n",
    "expand_ylim()"
   ]
  },
  {
   "cell_type": "markdown",
   "metadata": {},
   "source": [
    " - [ ] **C.3 Honest representation**: Are our visualizations, summary statistics, and reports designed to honestly represent the underlying data?"
   ]
  },
  {
   "cell_type": "markdown",
   "metadata": {},
   "source": [
    "We are not going to spend time in this exercise looking at examples of poor visualizations, but this is a good check to do for real projects."
   ]
  },
  {
   "cell_type": "markdown",
   "metadata": {},
   "source": [
    " - [ ] **C.4 Privacy in analysis**: Have we ensured that data with PII are not used or displayed unless necessary for the analysis?"
   ]
  },
  {
   "cell_type": "markdown",
   "metadata": {},
   "source": [
    "Mostly not applicable. We have no PII, but we do have some tracts with few observations. We need to be mindful of those and maybe exclude them from visualizations or combine them with neighboring tracts."
   ]
  },
  {
   "cell_type": "markdown",
   "metadata": {},
   "source": [
    " - [ ] **C.5 Auditability**: Is the process of generating the analysis well documented and reproducible if we discover issues in the future?"
   ]
  },
  {
   "cell_type": "markdown",
   "metadata": {},
   "source": [
    "Yes, all of our code is contained in this notebook. For real projects, this is an important point to consider in more depth."
   ]
  },
  {
   "cell_type": "markdown",
   "metadata": {},
   "source": [
    "## D. Modeling"
   ]
  },
  {
   "cell_type": "markdown",
   "metadata": {},
   "source": [
    "Though discrimination may not be strictly a problem in this situation, the non-profit wants their decision-making to be race-blind, so they ask for the population race percentage features to not be included in the modeling."
   ]
  },
  {
   "cell_type": "code",
   "execution_count": 17,
   "metadata": {},
   "outputs": [],
   "source": [
    "TARGET_VAR = 'evictions'\n",
    "FEATURE_VARS = [\n",
    "    'year', 'population', 'poverty-rate', 'median-property-value',\n",
    "    'renter-occupied-households', 'pct-renter-occupied', \n",
    "    'median-gross-rent', 'median-household-income',  'rent-burden', \n",
    "    \n",
    "    # Don't include race features\n",
    "    #'pct-white' , 'pct-af-am', 'pct-hispanic', 'pct-am-ind', \n",
    "    #'pct-asian', 'pct-nh-pi', 'pct-multiple', 'pct-other'\n",
    "]\n",
    "GROUP_VAR = 'GEOID' # Prevent leakage"
   ]
  },
  {
   "cell_type": "code",
   "execution_count": 18,
   "metadata": {},
   "outputs": [
    {
     "name": "stdout",
     "output_type": "stream",
     "text": [
      "Original Shape: (136958, 28)\n",
      "Shape without NAs: (115222, 29)\n"
     ]
    }
   ],
   "source": [
    "print(f\"Original Shape: {df.shape}\")\n",
    "# Drop NAs in target variable\n",
    "df_modeling = df.dropna(subset=[TARGET_VAR])\n",
    "df_modeling.reset_index(inplace=True)\n",
    "print(f\"Shape without NAs: {df_modeling.shape}\")"
   ]
  },
  {
   "cell_type": "code",
   "execution_count": 19,
   "metadata": {},
   "outputs": [],
   "source": [
    "from sklearn.model_selection import GroupShuffleSplit, cross_validate\n",
    "from sklearn.metrics import r2_score, mean_absolute_error, mean_squared_error\n",
    "from sklearn.ensemble import RandomForestRegressor\n",
    "from sklearn.impute import SimpleImputer\n",
    "from sklearn.pipeline import Pipeline"
   ]
  },
  {
   "cell_type": "code",
   "execution_count": 20,
   "metadata": {},
   "outputs": [
    {
     "data": {
      "text/plain": [
       "count    115222.000000\n",
       "mean         11.417629\n",
       "std          14.838183\n",
       "min           0.000000\n",
       "25%           2.000000\n",
       "50%           7.000000\n",
       "75%          15.000000\n",
       "max         296.000000\n",
       "Name: evictions, dtype: float64"
      ]
     },
     "execution_count": 20,
     "metadata": {},
     "output_type": "execute_result"
    }
   ],
   "source": [
    "df_modeling.loc[:, TARGET_VAR].describe()"
   ]
  },
  {
   "cell_type": "code",
   "execution_count": 21,
   "metadata": {},
   "outputs": [],
   "source": [
    "split = GroupShuffleSplit(\n",
    "    test_size=0.20, \n",
    "    n_splits=2, \n",
    "    random_state=36\n",
    ").split(df_modeling, groups=df_modeling.loc[:, GROUP_VAR])\n",
    "\n",
    "train_inds, test_inds = next(split)\n",
    "\n",
    "df_train = df_modeling.loc[train_inds, :]\n",
    "df_test = df_modeling.loc[test_inds, :]\n",
    "\n",
    "X_train = df_train.loc[:, FEATURE_VARS].values\n",
    "y_train = df_train.loc[:, TARGET_VAR].values\n",
    "\n",
    "X_test = df_test.loc[:, FEATURE_VARS].values\n",
    "y_test = df_test.loc[:, TARGET_VAR].values"
   ]
  },
  {
   "cell_type": "code",
   "execution_count": 22,
   "metadata": {},
   "outputs": [
    {
     "name": "stdout",
     "output_type": "stream",
     "text": [
      "CPU times: user 32.6 s, sys: 12.4 ms, total: 32.6 s\n",
      "Wall time: 32.6 s\n"
     ]
    },
    {
     "data": {
      "text/plain": [
       "Pipeline(memory=None,\n",
       "         steps=[('med_impute',\n",
       "                 SimpleImputer(add_indicator=False, copy=True, fill_value=None,\n",
       "                               missing_values=nan, strategy='median',\n",
       "                               verbose=0)),\n",
       "                ('model',\n",
       "                 RandomForestRegressor(bootstrap=True, criterion='mse',\n",
       "                                       max_depth=10, max_features='auto',\n",
       "                                       max_leaf_nodes=None,\n",
       "                                       min_impurity_decrease=0.0,\n",
       "                                       min_impurity_split=None,\n",
       "                                       min_samples_leaf=1, min_samples_split=2,\n",
       "                                       min_weight_fraction_leaf=0.0,\n",
       "                                       n_estimators=100, n_jobs=None,\n",
       "                                       oob_score=False, random_state=36,\n",
       "                                       verbose=0, warm_start=False))],\n",
       "         verbose=False)"
      ]
     },
     "execution_count": 22,
     "metadata": {},
     "output_type": "execute_result"
    }
   ],
   "source": [
    "%%time\n",
    "model_pipeline = Pipeline([\n",
    "    ('med_impute', SimpleImputer(strategy='median')),\n",
    "    ('model', RandomForestRegressor(\n",
    "        criterion='mse',\n",
    "        n_estimators=100, \n",
    "        max_depth=10,\n",
    "        random_state=36\n",
    "    ))\n",
    "])\n",
    "model_pipeline.fit(X_train, y_train)"
   ]
  },
  {
   "cell_type": "code",
   "execution_count": 23,
   "metadata": {},
   "outputs": [
    {
     "name": "stdout",
     "output_type": "stream",
     "text": [
      "R2 0.4902906447471631\n",
      "MSE 102.05521224494476\n",
      "MAE 5.9859944311932445\n"
     ]
    }
   ],
   "source": [
    "y_pred = model_pipeline.predict(X_test)\n",
    "print(\"R2\", r2_score(y_test, y_pred))\n",
    "print(\"MSE\", mean_squared_error(y_test, y_pred))\n",
    "print(\"MAE\", mean_absolute_error(y_test, y_pred))"
   ]
  },
  {
   "cell_type": "markdown",
   "metadata": {},
   "source": [
    " - [ ] **D.1 Proxy discrimination**: Have we ensured that the model does not rely on variables or proxies for variables that are unfairly discriminatory?"
   ]
  },
  {
   "cell_type": "markdown",
   "metadata": {},
   "source": [
    "As noted, unfair discrimination is not directly an issue with this use case, but the non-profit wants the model not to factor in race. \n",
    "\n",
    "\n",
    "<span style=\"color:green\">**\\*\\*Discussion: Are there concerns about proxy variables for race? Take some time to explore the data.\\*\\***</span> "
   ]
  },
  {
   "cell_type": "code",
   "execution_count": 24,
   "metadata": {},
   "outputs": [
    {
     "data": {
      "image/png": "[encoded data removed]",
      "text/plain": [
       "<Figure size 720x720 with 2 Axes>"
      ]
     },
     "metadata": {
      "needs_background": "light"
     },
     "output_type": "display_data"
    }
   ],
   "source": [
    "race_vars = ['pct-white' , 'pct-af-am', 'pct-hispanic', 'pct-am-ind', \n",
    "             'pct-asian', 'pct-nh-pi', 'pct-multiple', 'pct-other']\n",
    "corr = df_modeling.loc[:, FEATURE_VARS + race_vars].corr().loc[FEATURE_VARS, race_vars]\n",
    "\n",
    "plt.figure(figsize=FIGSIZE)\n",
    "sns.heatmap(corr, \n",
    "            vmin=-1.0,\n",
    "            vmax=1.0,\n",
    "            cmap='RdBu_r'\n",
    "           )\n",
    "\n",
    "expand_ylim()"
   ]
  },
  {
   "cell_type": "markdown",
   "metadata": {},
   "source": [
    " - [ ] **D.2 Fairness across groups**: Have we tested model results for fairness with respect to different affected groups (e.g., tested for disparate error rates)?"
   ]
  },
  {
   "cell_type": "markdown",
   "metadata": {},
   "source": [
    "<span style=\"color:green\">**\\*\\*Discussion: Are there concerns about fairness across groups? Take some time to explore the data.\\*\\***</span> "
   ]
  },
  {
   "cell_type": "code",
   "execution_count": 25,
   "metadata": {},
   "outputs": [
    {
     "data": {
      "text/html": [
       "<div>\n",
       "<style scoped>\n",
       "    .dataframe tbody tr th:only-of-type {\n",
       "        vertical-align: middle;\n",
       "    }\n",
       "\n",
       "    .dataframe tbody tr th {\n",
       "        vertical-align: top;\n",
       "    }\n",
       "\n",
       "    .dataframe thead th {\n",
       "        text-align: right;\n",
       "    }\n",
       "</style>\n",
       "<table border=\"1\" class=\"dataframe\">\n",
       "  <thead>\n",
       "    <tr style=\"text-align: right;\">\n",
       "      <th></th>\n",
       "      <th>corr_with_error</th>\n",
       "      <th>corr_with_abs_error</th>\n",
       "    </tr>\n",
       "  </thead>\n",
       "  <tbody>\n",
       "    <tr>\n",
       "      <th>pct-white</th>\n",
       "      <td>0.032432</td>\n",
       "      <td>-0.172612</td>\n",
       "    </tr>\n",
       "    <tr>\n",
       "      <th>pct-af-am</th>\n",
       "      <td>-0.146402</td>\n",
       "      <td>0.183893</td>\n",
       "    </tr>\n",
       "    <tr>\n",
       "      <th>pct-hispanic</th>\n",
       "      <td>0.001070</td>\n",
       "      <td>0.165911</td>\n",
       "    </tr>\n",
       "    <tr>\n",
       "      <th>pct-am-ind</th>\n",
       "      <td>0.052023</td>\n",
       "      <td>0.078095</td>\n",
       "    </tr>\n",
       "    <tr>\n",
       "      <th>pct-asian</th>\n",
       "      <td>0.051789</td>\n",
       "      <td>-0.078632</td>\n",
       "    </tr>\n",
       "    <tr>\n",
       "      <th>pct-nh-pi</th>\n",
       "      <td>-0.033506</td>\n",
       "      <td>0.028383</td>\n",
       "    </tr>\n",
       "    <tr>\n",
       "      <th>pct-multiple</th>\n",
       "      <td>-0.032265</td>\n",
       "      <td>-0.009766</td>\n",
       "    </tr>\n",
       "    <tr>\n",
       "      <th>pct-other</th>\n",
       "      <td>-0.018458</td>\n",
       "      <td>0.017767</td>\n",
       "    </tr>\n",
       "  </tbody>\n",
       "</table>\n",
       "</div>"
      ],
      "text/plain": [
       "              corr_with_error  corr_with_abs_error\n",
       "pct-white            0.032432            -0.172612\n",
       "pct-af-am           -0.146402             0.183893\n",
       "pct-hispanic         0.001070             0.165911\n",
       "pct-am-ind           0.052023             0.078095\n",
       "pct-asian            0.051789            -0.078632\n",
       "pct-nh-pi           -0.033506             0.028383\n",
       "pct-multiple        -0.032265            -0.009766\n",
       "pct-other           -0.018458             0.017767"
      ]
     },
     "execution_count": 25,
     "metadata": {},
     "output_type": "execute_result"
    }
   ],
   "source": [
    "# Calculate correlation of prediction error with race\n",
    "y_error = y_pred - y_test\n",
    "\n",
    "df_test['error'] = y_error\n",
    "error_corr = df_test[race_vars + ['error']].corr()['error'][:-1]\n",
    "\n",
    "df_test['abs_error'] = abs(y_error)\n",
    "abs_error_corr = df_test[race_vars + ['abs_error']].corr()['abs_error'][:-1]\n",
    "\n",
    "pd.DataFrame({'corr_with_error': error_corr, 'corr_with_abs_error': abs_error_corr})"
   ]
  },
  {
   "cell_type": "code",
   "execution_count": 26,
   "metadata": {},
   "outputs": [
    {
     "data": {
      "image/png": "[encoded data removed]",
      "text/plain": [
       "<Figure size 432x288 with 1 Axes>"
      ]
     },
     "metadata": {
      "needs_background": "light"
     },
     "output_type": "display_data"
    }
   ],
   "source": [
    "# Produce scatter plots of error for predominantly hispanic tracts\n",
    "df_test['true'] = y_test\n",
    "df_test['pred'] = y_pred\n",
    "\n",
    "hisp = df_test[df_test['pct-hispanic'] > 75]\n",
    "hisp = hisp.sort_values('evictions')\n",
    "\n",
    "plt.scatter(np.arange(len(hisp)), hisp['pred'], s=1)\n",
    "plt.scatter(np.arange(len(hisp)), hisp['true'], s=1);"
   ]
  },
  {
   "cell_type": "code",
   "execution_count": 27,
   "metadata": {
    "scrolled": false
   },
   "outputs": [
    {
     "data": {
      "image/png": "[encoded data removed]",
      "text/plain": [
       "<Figure size 1440x288 with 3 Axes>"
      ]
     },
     "metadata": {
      "needs_background": "light"
     },
     "output_type": "display_data"
    }
   ],
   "source": [
    "# Produce same plot side by side for different populations\n",
    "fig, axes = plt.subplots(1, 3)\n",
    "fig.set_figwidth(20)\n",
    "fig.suptitle('Predicted Evictions (blue) vs. Actual (orange) for Tracts by Majority Race', \n",
    "             fontsize=16,\n",
    "             y=1.1)\n",
    "\n",
    "# Abstract plotting into helper function to plot the error for each population\n",
    "def plot_error_for_pop(pop_name, ax, thresh=50):\n",
    "    pop = df_test[df_test[pop_name] > thresh]\n",
    "    pop = pop.sort_values('evictions')\n",
    "    ax.scatter(np.arange(len(pop)), pop['pred'], s=1)\n",
    "    ax.scatter(np.arange(len(pop)), pop['true'], s=1)\n",
    "    ax.set_ylim(0, 100)\n",
    "    ax.set_title(f\"> {thresh} {pop_name}\")\n",
    "\n",
    "for ax, pop_name in zip(axes, ['pct-af-am', 'pct-hispanic', 'pct-white']):\n",
    "    plot_error_for_pop(pop_name, ax)"
   ]
  },
  {
   "cell_type": "markdown",
   "metadata": {},
   "source": [
    " - [ ] **D.3 Metric selection**: Have we considered the effects of optimizing for our defined metrics and considered additional metrics?"
   ]
  },
  {
   "cell_type": "markdown",
   "metadata": {},
   "source": [
    "In the Random Forest model above, we used `mse` (mean-squared error) as the loss function. Mean-squared error is affected more by outliers than mean-absolute error. "
   ]
  },
  {
   "cell_type": "markdown",
   "metadata": {},
   "source": [
    " - [ ] **D.4 Explainability**: Can we explain in understandable terms a decision the model made in cases where a justification is needed?"
   ]
  },
  {
   "cell_type": "markdown",
   "metadata": {},
   "source": [
    "<span style=\"color:green\">**\\*\\*Discussion: Are there concerns about model explainability? Take some time to explore the data.\\*\\***</span> "
   ]
  },
  {
   "cell_type": "code",
   "execution_count": 28,
   "metadata": {},
   "outputs": [
    {
     "name": "stdout",
     "output_type": "stream",
     "text": [
      "                     features  importance\n",
      "0  renter-occupied-households    0.425646\n",
      "1       median-property-value    0.215394\n",
      "2                poverty-rate    0.078628\n",
      "3                        year    0.067333\n",
      "4                  population    0.053983\n",
      "5                 rent-burden    0.045774\n",
      "6     median-household-income    0.040545\n",
      "7           median-gross-rent    0.040022\n",
      "8         pct-renter-occupied    0.032674\n"
     ]
    }
   ],
   "source": [
    "model_pipeline.named_steps['model'].feature_importances_\n",
    "feature_importance = pd.DataFrame.from_dict({\n",
    "    'features': FEATURE_VARS,\n",
    "    'importance': model_pipeline.named_steps['model'].feature_importances_\n",
    "})\n",
    "print(feature_importance.sort_values('importance', ascending=False).reset_index(drop=True))"
   ]
  },
  {
   "cell_type": "markdown",
   "metadata": {},
   "source": [
    " - [ ] **D.5 Communicate bias**: Have we communicated the shortcomings, limitations, and biases of the model to relevant stakeholders in ways that can be generally understood?"
   ]
  },
  {
   "cell_type": "markdown",
   "metadata": {},
   "source": [
    "<span style=\"color:green\">**\\*\\*Discussion: What are shortcomings or limitations of our model we should be concerned about?.\\*\\***</span> "
   ]
  },
  {
   "cell_type": "markdown",
   "metadata": {},
   "source": [
    "## E. Deployment"
   ]
  },
  {
   "cell_type": "markdown",
   "metadata": {},
   "source": [
    " - [ ] **E.1 Redress**: Have we discussed with our organization a plan for response if users are harmed by the results (e.g., how does the data science team evaluate these cases and update analysis and models to prevent future harm)?"
   ]
  },
  {
   "cell_type": "markdown",
   "metadata": {},
   "source": [
    "This is important to consider in the context of how analysis and model results are used. Are the results used to make positive or negative interventions? What is the potential harm or inequity from incorrect model estimates?"
   ]
  },
  {
   "cell_type": "markdown",
   "metadata": {},
   "source": [
    " - [ ] **E.2 Roll back**: Is there a way to turn off or roll back the model in production if necessary?"
   ]
  },
  {
   "cell_type": "markdown",
   "metadata": {},
   "source": [
    " - [ ] **E.3 Concept drift**: Do we test and monitor for concept drift to ensure the model remains fair over time?"
   ]
  },
  {
   "cell_type": "markdown",
   "metadata": {},
   "source": [
    " - [ ] **E.4 Unintended use**: Have we taken steps to identify and prevent unintended uses and abuse of the model and do we have a plan to monitor these once the model is deployed?"
   ]
  },
  {
   "cell_type": "markdown",
   "metadata": {},
   "source": [
    "*Data Science Ethics Checklist generated with [deon](http://deon.drivendata.org).*"
   ]
  }
 ],
 "metadata": {
  "kernelspec": {
   "display_name": "Python 3",
   "language": "python",
   "name": "python3"
  },
  "language_info": {
   "codemirror_mode": {
    "name": "ipython",
    "version": 3
   },
   "file_extension": ".py",
   "mimetype": "text/x-python",
   "name": "python",
   "nbconvert_exporter": "python",
   "pygments_lexer": "ipython3",
   "version": "3.7.6"
  }
 },
 "nbformat": 4,
 "nbformat_minor": 4
}
